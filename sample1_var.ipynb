{
 "cells": [
  {
   "cell_type": "code",
   "execution_count": 5,
   "metadata": {},
   "outputs": [],
   "source": [
    "from new_module_sdk import Workspace, DatasetX, ModuleStepX, ExperimentX\n",
    "from azureml.studio.core.utils.column_selection import ColumnSelectionBuilder"
   ]
  },
  {
   "cell_type": "markdown",
   "metadata": {},
   "source": [
    "### Initialize workspace"
   ]
  },
  {
   "cell_type": "code",
   "execution_count": 2,
   "metadata": {},
   "outputs": [],
   "source": [
    "ws = Workspace.from_config()"
   ]
  },
  {
   "cell_type": "markdown",
   "metadata": {},
   "source": [
    "### Get dataset"
   ]
  },
  {
   "cell_type": "code",
   "execution_count": 3,
   "metadata": {},
   "outputs": [],
   "source": [
    "dataset = DatasetX.get_by_data_reference(ws, \"GenericCSV/Automobile_price_data_(Raw)\")"
   ]
  },
  {
   "cell_type": "markdown",
   "metadata": {},
   "source": [
    "### Get and define modules"
   ]
  },
  {
   "cell_type": "code",
   "execution_count": 6,
   "metadata": {},
   "outputs": [
    {
     "name": "stdout",
     "output_type": "stream",
     "text": [
      "Input: ['Dataset']\n",
      "Mapping property to field names.\n",
      "self.dataset => self['Dataset']\n",
      "\n",
      "Output: ['Results_dataset']\n",
      "Mapping property to field names.\n",
      "self.results_dataset => self['Results_dataset']\n",
      "\n",
      "Parameter: ['Select Columns']\n",
      "Mapping property to field names.\n",
      "self.select_columns => self['Select Columns']\n",
      "\n"
     ]
    }
   ],
   "source": [
    "select_columns_in_dataset = ModuleStepX.get(ws, name='Select Columns in Dataset')\n",
    "select_columns_in_dataset.inputs.dataset = dataset\n",
    "select_columns_in_dataset.params.select_columns = ColumnSelectionBuilder().include_all().exclude_col_names('normalized-losses')"
   ]
  },
  {
   "cell_type": "code",
   "execution_count": 8,
   "metadata": {},
   "outputs": [
    {
     "name": "stdout",
     "output_type": "stream",
     "text": [
      "Input: ['Dataset']\n",
      "Mapping property to field names.\n",
      "self.dataset => self['Dataset']\n",
      "\n",
      "Output: ['Cleaned_dataset', 'Cleaning_transformation']\n",
      "Mapping property to field names.\n",
      "self.cleaned_dataset => self['Cleaned_dataset']\n",
      "self.cleaning_transformation => self['Cleaning_transformation']\n",
      "\n",
      "Parameter: ['Columns to be cleaned', 'Minimum missing value ratio', 'Maximum missing value ratio', 'Cleaning mode', 'Replacement value', 'Generate missing value indicator column', 'Cols with all missing values']\n",
      "Mapping property to field names.\n",
      "self.columns_to_be_cleaned => self['Columns to be cleaned']\n",
      "self.minimum_missing_value_ratio => self['Minimum missing value ratio']\n",
      "self.maximum_missing_value_ratio => self['Maximum missing value ratio']\n",
      "self.cleaning_mode => self['Cleaning mode']\n",
      "self.replacement_value => self['Replacement value']\n",
      "self.generate_missing_value_indicator_column => self['Generate missing value indicator column']\n",
      "self.cols_with_all_missing_values => self['Cols with all missing values']\n",
      "\n"
     ]
    }
   ],
   "source": [
    "clean_missing_data = ModuleStepX.get(ws, name='Clean Missing Data')\n",
    "clean_missing_data.inputs.dataset = select_columns_in_dataset.outputs.results_dataset\n",
    "clean_missing_data.params.columns_to_be_cleaned = ColumnSelectionBuilder().include_all()\n",
    "clean_missing_data.params.minimum_missing_value_ratio = 0.0\n",
    "clean_missing_data.params.maximum_missing_value_ratio = 1.0\n",
    "clean_missing_data.params.cleaning_mode = 'Remove entire row'"
   ]
  },
  {
   "cell_type": "code",
   "execution_count": 9,
   "metadata": {},
   "outputs": [
    {
     "name": "stdout",
     "output_type": "stream",
     "text": [
      "Input: ['Dataset']\n",
      "Mapping property to field names.\n",
      "self.dataset => self['Dataset']\n",
      "\n",
      "Output: ['Results_dataset1', 'Results_dataset2']\n",
      "Mapping property to field names.\n",
      "self.results_dataset1 => self['Results_dataset1']\n",
      "self.results_dataset2 => self['Results_dataset2']\n",
      "\n",
      "Parameter: ['Splitting mode', 'Fraction of rows in the first output dataset', 'Randomized split', 'Random seed', 'Stratified split', 'Stratification key column', 'Regular expression', 'Relational expression']\n",
      "Mapping property to field names.\n",
      "self.splitting_mode => self['Splitting mode']\n",
      "self.fraction_of_rows_in_the_first_output_dataset => self['Fraction of rows in the first output dataset']\n",
      "self.randomized_split => self['Randomized split']\n",
      "self.random_seed => self['Random seed']\n",
      "self.stratified_split => self['Stratified split']\n",
      "self.stratification_key_column => self['Stratification key column']\n",
      "self.regular_expression => self['Regular expression']\n",
      "self.relational_expression => self['Relational expression']\n",
      "\n"
     ]
    }
   ],
   "source": [
    "split_data = ModuleStepX.get(ws, name='Split Data')\n",
    "split_data.inputs.dataset = clean_missing_data.outputs.cleaned_dataset\n",
    "split_data.params.fraction_of_rows_in_the_first_output_dataset = 0.7\n",
    "split_data.params.splitting_mode = 'Split Rows'\n",
    "split_data.params.randomized_split = True\n",
    "split_data.params.stratified_split = False"
   ]
  },
  {
   "cell_type": "code",
   "execution_count": 10,
   "metadata": {},
   "outputs": [
    {
     "name": "stdout",
     "output_type": "stream",
     "text": [
      "Input: []\n",
      "Mapping property to field names.\n",
      "\n",
      "Output: ['Untrained_model']\n",
      "Mapping property to field names.\n",
      "self.untrained_model => self['Untrained_model']\n",
      "\n",
      "Parameter: ['Solution method', 'Create trainer mode', 'Learning rate', 'Number of epochs over which algorithm iterates through examples', 'L2 regularization term weight', 'Range for learning rate', 'Range for number of epochs over which algorithm iterates through examples', 'Range for L2 regularization term weight', 'Should input instances be normalized', 'Decrease learning rate as iterations progress', 'L2 regularization weight', 'Include intercept term', 'Random number seed']\n",
      "Mapping property to field names.\n",
      "self.solution_method => self['Solution method']\n",
      "self.create_trainer_mode => self['Create trainer mode']\n",
      "self.learning_rate => self['Learning rate']\n",
      "self.number_of_epochs_over_which_algorithm_iterates_through_examples => self['Number of epochs over which algorithm iterates through examples']\n",
      "self.l2_regularization_term_weight => self['L2 regularization term weight']\n",
      "self.range_for_learning_rate => self['Range for learning rate']\n",
      "self.range_for_number_of_epochs_over_which_algorithm_iterates_through_examples => self['Range for number of epochs over which algorithm iterates through examples']\n",
      "self.range_for_l2_regularization_term_weight => self['Range for L2 regularization term weight']\n",
      "self.should_input_instances_be_normalized => self['Should input instances be normalized']\n",
      "self.decrease_learning_rate_as_iterations_progress => self['Decrease learning rate as iterations progress']\n",
      "self.l2_regularization_weight => self['L2 regularization weight']\n",
      "self.include_intercept_term => self['Include intercept term']\n",
      "self.random_number_seed => self['Random number seed']\n",
      "\n"
     ]
    }
   ],
   "source": [
    "linear_regression = ModuleStepX.get(ws, name='Linear Regression')\n",
    "linear_regression.params.solution_method = 'Ordinary Least Squares'\n",
    "linear_regression.params.l2_regularization_term_weight = 0.001\n",
    "linear_regression.params.include_intercept_term = True\n",
    "linear_regression.params.random_number_seed = 0"
   ]
  },
  {
   "cell_type": "code",
   "execution_count": 11,
   "metadata": {},
   "outputs": [
    {
     "name": "stdout",
     "output_type": "stream",
     "text": [
      "Input: ['Untrained_model', 'Dataset']\n",
      "Mapping property to field names.\n",
      "self.untrained_model => self['Untrained_model']\n",
      "self.dataset => self['Dataset']\n",
      "\n",
      "Output: ['Trained_model']\n",
      "Mapping property to field names.\n",
      "self.trained_model => self['Trained_model']\n",
      "\n",
      "Parameter: ['Label column']\n",
      "Mapping property to field names.\n",
      "self.label_column => self['Label column']\n",
      "\n"
     ]
    }
   ],
   "source": [
    "train_model = ModuleStepX.get(ws, name='Train Model')\n",
    "train_model.inputs.untrained_model = linear_regression.outputs.untrained_model\n",
    "train_model.inputs.dataset = split_data.outputs.results_dataset1\n",
    "train_model.params.label_column = ColumnSelectionBuilder().include_col_names('price')"
   ]
  },
  {
   "cell_type": "code",
   "execution_count": 12,
   "metadata": {},
   "outputs": [
    {
     "name": "stdout",
     "output_type": "stream",
     "text": [
      "Input: ['Trained_model', 'Dataset']\n",
      "Mapping property to field names.\n",
      "self.trained_model => self['Trained_model']\n",
      "self.dataset => self['Dataset']\n",
      "\n",
      "Output: ['Scored_dataset']\n",
      "Mapping property to field names.\n",
      "self.scored_dataset => self['Scored_dataset']\n",
      "\n",
      "Parameter: ['Append score columns to output']\n",
      "Mapping property to field names.\n",
      "self.append_score_columns_to_output => self['Append score columns to output']\n",
      "\n"
     ]
    }
   ],
   "source": [
    "score_model = ModuleStepX.get(ws, name='Score Model')\n",
    "score_model.inputs.trained_model = train_model.outputs.trained_model\n",
    "score_model.inputs.dataset = split_data.outputs.results_dataset2\n",
    "score_model.params.append_score_columns_to_output = True"
   ]
  },
  {
   "cell_type": "code",
   "execution_count": 13,
   "metadata": {},
   "outputs": [
    {
     "name": "stdout",
     "output_type": "stream",
     "text": [
      "Input: ['Scored_dataset', 'Scored_dataset_to_compare']\n",
      "Mapping property to field names.\n",
      "self.scored_dataset => self['Scored_dataset']\n",
      "self.scored_dataset_to_compare => self['Scored_dataset_to_compare']\n",
      "\n",
      "Output: ['Evaluation_results']\n",
      "Mapping property to field names.\n",
      "self.evaluation_results => self['Evaluation_results']\n",
      "\n",
      "Parameter: []\n",
      "Mapping property to field names.\n",
      "\n"
     ]
    }
   ],
   "source": [
    "evaluate_model = ModuleStepX.get(ws, name='Evaluate Model')\n",
    "evaluate_model.inputs.scored_dataset = score_model.outputs.scored_dataset"
   ]
  },
  {
   "cell_type": "markdown",
   "metadata": {},
   "source": [
    "### Submit and run experiment"
   ]
  },
  {
   "cell_type": "code",
   "execution_count": 14,
   "metadata": {},
   "outputs": [
    {
     "name": "stdout",
     "output_type": "stream",
     "text": [
      "ModuleStep azureml://Select Columns in Dataset\n",
      "Inputs:  {'Dataset': $AZUREML_DATAREFERENCE_Dataset}\n",
      "Outputs:  {'Results_dataset': $AZUREML_DATAREFERENCE_fca5e3179f8a48f6b1003d1b9e77918d}\n",
      "Parameters:  {'Select Columns': <azureml.studio.core.utils.column_selection.ColumnSelectionBuilder object at 0x000002375FCF2438>}\n",
      "\n",
      "\n",
      "ModuleStep azureml://Clean Missing Data\n",
      "Inputs:  {'Dataset': $AZUREML_DATAREFERENCE_fca5e3179f8a48f6b1003d1b9e77918d}\n",
      "Outputs:  {'Cleaned_dataset': $AZUREML_DATAREFERENCE_e158165b229643de99b7ab6f24eb9466, 'Cleaning_transformation': $AZUREML_DATAREFERENCE_fc51d14279ce406e9a6e3e8a002f1b6a}\n",
      "Parameters:  {'Columns to be cleaned': <azureml.studio.core.utils.column_selection.ColumnSelectionBuilder object at 0x0000023770CE4978>, 'Minimum missing value ratio': 0.0, 'Maximum missing value ratio': 1.0, 'Cleaning mode': 'Remove entire row'}\n",
      "\n",
      "\n",
      "ModuleStep azureml://Split Data\n",
      "Inputs:  {'Dataset': $AZUREML_DATAREFERENCE_e158165b229643de99b7ab6f24eb9466}\n",
      "Outputs:  {'Results_dataset2': $AZUREML_DATAREFERENCE_2cca3b51aaa54a3096921bbb54c60b5f, 'Results_dataset1': $AZUREML_DATAREFERENCE_3462564cddf848398f3aff0efba89a53}\n",
      "Parameters:  {'Fraction of rows in the first output dataset': 0.7, 'Splitting mode': 'Split Rows', 'Randomized split': True, 'Stratified split': False}\n",
      "\n",
      "\n",
      "ModuleStep azureml://Linear Regression\n",
      "Inputs:  {}\n",
      "Outputs:  {'Untrained_model': $AZUREML_DATAREFERENCE_e470e1b183024dabb2bcd02a715758c3}\n",
      "Parameters:  {'Solution method': 'Ordinary Least Squares', 'L2 regularization term weight': 0.001, 'Include intercept term': True, 'Random number seed': 0}\n",
      "\n",
      "\n",
      "ModuleStep azureml://Train Model\n",
      "Inputs:  {'Untrained_model': $AZUREML_DATAREFERENCE_e470e1b183024dabb2bcd02a715758c3, 'Dataset': $AZUREML_DATAREFERENCE_3462564cddf848398f3aff0efba89a53}\n",
      "Outputs:  {'Trained_model': $AZUREML_DATAREFERENCE_f80aaa1ad9ee441980204b49c306b47b}\n",
      "Parameters:  {'Label column': <azureml.studio.core.utils.column_selection.ColumnSelectionBuilder object at 0x0000023770CB2B38>}\n",
      "\n",
      "\n",
      "ModuleStep azureml://Score Model\n",
      "Inputs:  {'Trained_model': $AZUREML_DATAREFERENCE_f80aaa1ad9ee441980204b49c306b47b, 'Dataset': $AZUREML_DATAREFERENCE_2cca3b51aaa54a3096921bbb54c60b5f}\n",
      "Outputs:  {'Scored_dataset': $AZUREML_DATAREFERENCE_720747cab2ac41c6a8cf4fe0d8acb389}\n",
      "Parameters:  {'Append score columns to output': True}\n",
      "\n",
      "\n",
      "ModuleStep azureml://Evaluate Model\n",
      "Inputs:  {'Scored_dataset': $AZUREML_DATAREFERENCE_720747cab2ac41c6a8cf4fe0d8acb389}\n",
      "Outputs:  {'Evaluation_results': $AZUREML_DATAREFERENCE_e844c82f6a834dd7906daca2cfb0cd57}\n",
      "Parameters:  {}\n",
      "\n",
      "\n",
      "Using data reference Dataset for StepId [f18ecda7][7f749c39-5b65-4172-9b09-5ea17886ad1c], (Consumers of this data are eligible to reuse prior runs.)\n",
      "Submitted PipelineRun d77815a3-1b84-4f4b-b608-cdf4e23c2e3b\n",
      "Link to Azure Machine Learning studio: https://ml.azure.com/experiments/test_experiment_ex/runs/d77815a3-1b84-4f4b-b608-cdf4e23c2e3b?wsid=/subscriptions/e9b2ec51-5c94-4fa8-809a-dc1e695e4896/resourcegroups/thy-experiment/workspaces/thyworkspacetest\n"
     ]
    }
   ],
   "source": [
    "steps = [select_columns_in_dataset, clean_missing_data, split_data, linear_regression, train_model, score_model, evaluate_model]\n",
    "ExperimentX.submit(ws, steps, 'test_experiment_ex')"
   ]
  },
  {
   "cell_type": "code",
   "execution_count": null,
   "metadata": {},
   "outputs": [],
   "source": []
  }
 ],
 "metadata": {
  "kernelspec": {
   "display_name": "Python 3",
   "language": "python",
   "name": "python3"
  },
  "language_info": {
   "codemirror_mode": {
    "name": "ipython",
    "version": 3
   },
   "file_extension": ".py",
   "mimetype": "text/x-python",
   "name": "python",
   "nbconvert_exporter": "python",
   "pygments_lexer": "ipython3",
   "version": "3.6.8"
  }
 },
 "nbformat": 4,
 "nbformat_minor": 2
}
