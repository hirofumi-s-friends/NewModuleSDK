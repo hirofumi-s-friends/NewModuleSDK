{
 "cells": [
  {
   "cell_type": "code",
   "execution_count": 1,
   "metadata": {},
   "outputs": [],
   "source": [
    "from new_module_sdk import Workspace, DatasetX, ModuleStepX, ExperimentX\n",
    "from azureml.studio.core.utils.column_selection import ColumnSelectionBuilder"
   ]
  },
  {
   "cell_type": "markdown",
   "metadata": {},
   "source": [
    "### Initialize workspace"
   ]
  },
  {
   "cell_type": "code",
   "execution_count": 2,
   "metadata": {},
   "outputs": [],
   "source": [
    "ws = Workspace.from_config()"
   ]
  },
  {
   "cell_type": "markdown",
   "metadata": {},
   "source": [
    "### Get dataset"
   ]
  },
  {
   "cell_type": "code",
   "execution_count": 3,
   "metadata": {},
   "outputs": [],
   "source": [
    "dataset = DatasetX.get_by_data_reference(ws, \"GenericCSV/Automobile_price_data_(Raw)\")"
   ]
  },
  {
   "cell_type": "markdown",
   "metadata": {},
   "source": [
    "### Get and define modules"
   ]
  },
  {
   "cell_type": "code",
   "execution_count": 4,
   "metadata": {},
   "outputs": [
    {
     "name": "stdout",
     "output_type": "stream",
     "text": [
      "Initializing module: azureml://Select Columns in Dataset\n",
      "Get inputs\n",
      "inputs.dataset\n",
      "\n",
      "Get outputs\n",
      "outputs.results_dataset\n",
      "\n",
      "Get params\n",
      "params.select_columns = None, is_optional=False\n",
      "\n"
     ]
    }
   ],
   "source": [
    "select_columns_in_dataset = ModuleStepX.get(ws, name='Select Columns in Dataset')"
   ]
  },
  {
   "cell_type": "code",
   "execution_count": 5,
   "metadata": {},
   "outputs": [],
   "source": [
    "select_columns_in_dataset.inputs.dataset = dataset\n",
    "select_columns_in_dataset.params.select_columns = ColumnSelectionBuilder().include_all().exclude_col_names('normalized-losses')"
   ]
  },
  {
   "cell_type": "code",
   "execution_count": 6,
   "metadata": {},
   "outputs": [
    {
     "name": "stdout",
     "output_type": "stream",
     "text": [
      "Initializing module: azureml://Clean Missing Data\n",
      "Get inputs\n",
      "inputs.dataset\n",
      "\n",
      "Get outputs\n",
      "outputs.cleaned_dataset\n",
      "outputs.cleaning_transformation\n",
      "\n",
      "Get params\n",
      "params.columns_to_be_cleaned = 'All', is_optional=False\n",
      "params.minimum_missing_value_ratio = '0.0', is_optional=False\n",
      "params.maximum_missing_value_ratio = '1.0', is_optional=False\n",
      "params.cleaning_mode = 'Custom substitution value', is_optional=False\n",
      "params.replacement_value = None, is_optional=True\n",
      "params.generate_missing_value_indicator_column = None, is_optional=True\n",
      "params.cols_with_all_missing_values = None, is_optional=True\n",
      "\n"
     ]
    }
   ],
   "source": [
    "clean_missing_data = ModuleStepX.get(ws, name='Clean Missing Data')"
   ]
  },
  {
   "cell_type": "code",
   "execution_count": 7,
   "metadata": {},
   "outputs": [],
   "source": [
    "clean_missing_data.inputs.dataset = select_columns_in_dataset.outputs.results_dataset\n",
    "clean_missing_data.params.columns_to_be_cleaned = ColumnSelectionBuilder().include_all()\n",
    "clean_missing_data.params.minimum_missing_value_ratio = 0.0\n",
    "clean_missing_data.params.maximum_missing_value_ratio = 1.0\n",
    "clean_missing_data.params.cleaning_mode = 'Remove entire row'"
   ]
  },
  {
   "cell_type": "code",
   "execution_count": 8,
   "metadata": {},
   "outputs": [
    {
     "name": "stdout",
     "output_type": "stream",
     "text": [
      "Initializing module: azureml://Split Data\n",
      "Get inputs\n",
      "inputs.dataset\n",
      "\n",
      "Get outputs\n",
      "outputs.results_dataset1\n",
      "outputs.results_dataset2\n",
      "\n",
      "Get params\n",
      "params.splitting_mode = 'Split Rows', is_optional=False\n",
      "params.fraction_of_rows_in_the_first_output_dataset = None, is_optional=True\n",
      "params.randomized_split = None, is_optional=True\n",
      "params.random_seed = None, is_optional=True\n",
      "params.stratified_split = None, is_optional=True\n",
      "params.stratification_key_column = None, is_optional=True\n",
      "params.regular_expression = None, is_optional=True\n",
      "params.relational_expression = None, is_optional=True\n",
      "\n"
     ]
    }
   ],
   "source": [
    "split_data = ModuleStepX.get(ws, name='Split Data')"
   ]
  },
  {
   "cell_type": "code",
   "execution_count": 9,
   "metadata": {},
   "outputs": [],
   "source": [
    "split_data.inputs.dataset = clean_missing_data.outputs.cleaned_dataset\n",
    "split_data.params.fraction_of_rows_in_the_first_output_dataset = 0.7\n",
    "split_data.params.splitting_mode = 'Split Rows'\n",
    "split_data.params.randomized_split = True\n",
    "split_data.params.stratified_split = False"
   ]
  },
  {
   "cell_type": "code",
   "execution_count": 10,
   "metadata": {},
   "outputs": [
    {
     "name": "stdout",
     "output_type": "stream",
     "text": [
      "Initializing module: azureml://Linear Regression\n",
      "Get inputs\n",
      "\n",
      "Get outputs\n",
      "outputs.untrained_model\n",
      "\n",
      "Get params\n",
      "params.solution_method = 'Ordinary Least Squares', is_optional=False\n",
      "params.create_trainer_mode = None, is_optional=True\n",
      "params.learning_rate = None, is_optional=True\n",
      "params.number_of_epochs_over_which_algorithm_iterates_through_examples = None, is_optional=True\n",
      "params.l2_regularization_term_weight = None, is_optional=True\n",
      "params.range_for_learning_rate = None, is_optional=True\n",
      "params.range_for_number_of_epochs_over_which_algorithm_iterates_through_examples = None, is_optional=True\n",
      "params.range_for_l2_regularization_term_weight = None, is_optional=True\n",
      "params.should_input_instances_be_normalized = None, is_optional=True\n",
      "params.decrease_learning_rate_as_iterations_progress = None, is_optional=True\n",
      "params.l2_regularization_weight = None, is_optional=True\n",
      "params.include_intercept_term = None, is_optional=True\n",
      "params.random_number_seed = None, is_optional=True\n",
      "\n"
     ]
    }
   ],
   "source": [
    "linear_regression = ModuleStepX.get(ws, name='Linear Regression')"
   ]
  },
  {
   "cell_type": "code",
   "execution_count": 11,
   "metadata": {},
   "outputs": [],
   "source": [
    "linear_regression.params.solution_method = 'Ordinary Least Squares'\n",
    "linear_regression.params.l2_regularization_term_weight = 0.001\n",
    "linear_regression.params.include_intercept_term = True\n",
    "linear_regression.params.random_number_seed = 0"
   ]
  },
  {
   "cell_type": "code",
   "execution_count": 12,
   "metadata": {},
   "outputs": [
    {
     "name": "stdout",
     "output_type": "stream",
     "text": [
      "Initializing module: azureml://Train Model\n",
      "Get inputs\n",
      "inputs.untrained_model\n",
      "inputs.dataset\n",
      "\n",
      "Get outputs\n",
      "outputs.trained_model\n",
      "\n",
      "Get params\n",
      "params.label_column = None, is_optional=False\n",
      "\n"
     ]
    }
   ],
   "source": [
    "train_model = ModuleStepX.get(ws, name='Train Model')"
   ]
  },
  {
   "cell_type": "code",
   "execution_count": 13,
   "metadata": {},
   "outputs": [],
   "source": [
    "train_model.inputs.untrained_model = linear_regression.outputs.untrained_model\n",
    "train_model.inputs.dataset = split_data.outputs.results_dataset1\n",
    "train_model.params.label_column = ColumnSelectionBuilder().include_col_names('price')"
   ]
  },
  {
   "cell_type": "code",
   "execution_count": 14,
   "metadata": {},
   "outputs": [
    {
     "name": "stdout",
     "output_type": "stream",
     "text": [
      "Initializing module: azureml://Score Model\n",
      "Get inputs\n",
      "inputs.trained_model\n",
      "inputs.dataset\n",
      "\n",
      "Get outputs\n",
      "outputs.scored_dataset\n",
      "\n",
      "Get params\n",
      "params.append_score_columns_to_output = 'True', is_optional=False\n",
      "\n"
     ]
    }
   ],
   "source": [
    "score_model = ModuleStepX.get(ws, name='Score Model')"
   ]
  },
  {
   "cell_type": "code",
   "execution_count": 15,
   "metadata": {},
   "outputs": [],
   "source": [
    "score_model.inputs.trained_model = train_model.outputs.trained_model\n",
    "score_model.inputs.dataset = split_data.outputs.results_dataset2\n",
    "score_model.params.append_score_columns_to_output = True"
   ]
  },
  {
   "cell_type": "code",
   "execution_count": 16,
   "metadata": {},
   "outputs": [
    {
     "name": "stdout",
     "output_type": "stream",
     "text": [
      "Initializing module: azureml://Evaluate Model\n",
      "Get inputs\n",
      "inputs.scored_dataset\n",
      "inputs.scored_dataset_to_compare\n",
      "\n",
      "Get outputs\n",
      "outputs.evaluation_results\n",
      "\n",
      "Get params\n",
      "\n"
     ]
    }
   ],
   "source": [
    "evaluate_model = ModuleStepX.get(ws, name='Evaluate Model')"
   ]
  },
  {
   "cell_type": "code",
   "execution_count": 17,
   "metadata": {},
   "outputs": [],
   "source": [
    "evaluate_model.inputs.scored_dataset = score_model.outputs.scored_dataset"
   ]
  },
  {
   "cell_type": "markdown",
   "metadata": {},
   "source": [
    "### Submit and run experiment"
   ]
  },
  {
   "cell_type": "code",
   "execution_count": 18,
   "metadata": {},
   "outputs": [
    {
     "name": "stdout",
     "output_type": "stream",
     "text": [
      "ModuleStep azureml://Select Columns in Dataset\n",
      "Inputs:  {'Dataset': $AZUREML_DATAREFERENCE_Dataset}\n",
      "Outputs:  {'Results_dataset': $AZUREML_DATAREFERENCE_2e83ccba9063409c953e0a8f850dda07}\n",
      "Parameters:  {'Select Columns': <azureml.studio.core.utils.column_selection.ColumnSelectionBuilder object at 0x000001F9C7536828>}\n",
      "\n",
      "\n",
      "ModuleStep azureml://Clean Missing Data\n",
      "Inputs:  {'Dataset': $AZUREML_DATAREFERENCE_2e83ccba9063409c953e0a8f850dda07}\n",
      "Outputs:  {'Cleaned_dataset': $AZUREML_DATAREFERENCE_968541f2dcba479d9e555e8cb591d18c, 'Cleaning_transformation': $AZUREML_DATAREFERENCE_c169cb2678ab4e6282690972e844b04c}\n",
      "Parameters:  {'Columns to be cleaned': <azureml.studio.core.utils.column_selection.ColumnSelectionBuilder object at 0x000001F9C758DC50>, 'Minimum missing value ratio': 0.0, 'Maximum missing value ratio': 1.0, 'Cleaning mode': 'Remove entire row', 'Replacement value': None, 'Generate missing value indicator column': None, 'Cols with all missing values': None}\n",
      "\n",
      "\n",
      "ModuleStep azureml://Split Data\n",
      "Inputs:  {'Dataset': $AZUREML_DATAREFERENCE_968541f2dcba479d9e555e8cb591d18c}\n",
      "Outputs:  {'Results_dataset1': $AZUREML_DATAREFERENCE_2ec92977edc54985a362f7def78c6ca5, 'Results_dataset2': $AZUREML_DATAREFERENCE_50ad9b55f34f4341a39a6ff23c8f3418}\n",
      "Parameters:  {'Splitting mode': 'Split Rows', 'Fraction of rows in the first output dataset': 0.7, 'Randomized split': True, 'Random seed': None, 'Stratified split': False, 'Stratification key column': None, 'Regular expression': None, 'Relational expression': None}\n",
      "\n",
      "\n",
      "ModuleStep azureml://Linear Regression\n",
      "Inputs:  {}\n",
      "Outputs:  {'Untrained_model': $AZUREML_DATAREFERENCE_4275cca42fcf4c9d9525499aee31f9ad}\n",
      "Parameters:  {'Solution method': 'Ordinary Least Squares', 'Create trainer mode': None, 'Learning rate': None, 'Number of epochs over which algorithm iterates through examples': None, 'L2 regularization term weight': 0.001, 'Range for learning rate': None, 'Range for number of epochs over which algorithm iterates through examples': None, 'Range for L2 regularization term weight': None, 'Should input instances be normalized': None, 'Decrease learning rate as iterations progress': None, 'L2 regularization weight': None, 'Include intercept term': True, 'Random number seed': 0}\n",
      "\n",
      "\n",
      "ModuleStep azureml://Train Model\n",
      "Inputs:  {'Untrained_model': $AZUREML_DATAREFERENCE_4275cca42fcf4c9d9525499aee31f9ad, 'Dataset': $AZUREML_DATAREFERENCE_2ec92977edc54985a362f7def78c6ca5}\n",
      "Outputs:  {'Trained_model': $AZUREML_DATAREFERENCE_4241b3722c40404da9887ccf3e7cca11}\n",
      "Parameters:  {'Label column': <azureml.studio.core.utils.column_selection.ColumnSelectionBuilder object at 0x000001F9C75F7C18>}\n",
      "\n",
      "\n",
      "ModuleStep azureml://Score Model\n",
      "Inputs:  {'Trained_model': $AZUREML_DATAREFERENCE_4241b3722c40404da9887ccf3e7cca11, 'Dataset': $AZUREML_DATAREFERENCE_50ad9b55f34f4341a39a6ff23c8f3418}\n",
      "Outputs:  {'Scored_dataset': $AZUREML_DATAREFERENCE_dfb920524d1d4538840c21df18457297}\n",
      "Parameters:  {'Append score columns to output': True}\n",
      "\n",
      "\n",
      "ModuleStep azureml://Evaluate Model\n",
      "Inputs:  {'Scored_dataset': $AZUREML_DATAREFERENCE_dfb920524d1d4538840c21df18457297}\n",
      "Outputs:  {'Evaluation_results': $AZUREML_DATAREFERENCE_f9bbd13fd36641438032d1573a7fc61c}\n",
      "Parameters:  {}\n",
      "\n",
      "\n",
      "Using data reference Dataset for StepId [664f9b83][7f749c39-5b65-4172-9b09-5ea17886ad1c], (Consumers of this data are eligible to reuse prior runs.)\n",
      "Submitted PipelineRun b957863e-abb0-4d62-8df7-06c0efc58616\n",
      "Link to Azure Machine Learning studio: https://ml.azure.com/experiments/test_experiment_ex/runs/b957863e-abb0-4d62-8df7-06c0efc58616?wsid=/subscriptions/e9b2ec51-5c94-4fa8-809a-dc1e695e4896/resourcegroups/thy-experiment/workspaces/thyworkspacetest\n"
     ]
    }
   ],
   "source": [
    "steps = [select_columns_in_dataset, clean_missing_data, split_data, linear_regression, train_model, score_model, evaluate_model]\n",
    "ExperimentX.submit(ws, steps, 'test_experiment_ex')"
   ]
  }
 ],
 "metadata": {
  "kernelspec": {
   "display_name": "Python 3",
   "language": "python",
   "name": "python3"
  },
  "language_info": {
   "codemirror_mode": {
    "name": "ipython",
    "version": 3
   },
   "file_extension": ".py",
   "mimetype": "text/x-python",
   "name": "python",
   "nbconvert_exporter": "python",
   "pygments_lexer": "ipython3",
   "version": "3.6.8"
  }
 },
 "nbformat": 4,
 "nbformat_minor": 2
}
