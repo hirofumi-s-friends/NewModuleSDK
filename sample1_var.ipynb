{
 "cells": [
  {
   "cell_type": "code",
   "execution_count": 1,
   "metadata": {},
   "outputs": [],
   "source": [
    "from new_module_sdk import Workspace, DatasetX, ModuleStepX, ExperimentX"
   ]
  },
  {
   "cell_type": "markdown",
   "metadata": {},
   "source": [
    "### Initialize workspace"
   ]
  },
  {
   "cell_type": "code",
   "execution_count": 2,
   "metadata": {},
   "outputs": [],
   "source": [
    "ws = Workspace.from_config()"
   ]
  },
  {
   "cell_type": "markdown",
   "metadata": {},
   "source": [
    "### Get dataset"
   ]
  },
  {
   "cell_type": "code",
   "execution_count": 3,
   "metadata": {},
   "outputs": [],
   "source": [
    "dataset = DatasetX.get_by_data_reference(ws, \"GenericCSV/Automobile_price_data_(Raw)\")"
   ]
  },
  {
   "cell_type": "markdown",
   "metadata": {},
   "source": [
    "### Get and define modules"
   ]
  },
  {
   "cell_type": "code",
   "execution_count": 14,
   "metadata": {},
   "outputs": [
    {
     "name": "stdout",
     "output_type": "stream",
     "text": [
      "Input: ['Dataset']\n",
      "Mapping property to field names.\n",
      "self.dataset => self['Dataset']\n",
      "\n",
      "Output: ['Results_dataset']\n",
      "Mapping property to field names.\n",
      "self.results_dataset => self['Results_dataset']\n",
      "\n",
      "Parameter: ['Select Columns']\n",
      "Mapping property to field names.\n",
      "self.select_columns => self['Select Columns']\n",
      "\n"
     ]
    }
   ],
   "source": [
    "select_columns_in_dataset = ModuleStepX.get(ws, name='azureml://Select Columns in Dataset')\n",
    "select_columns_in_dataset.inputs.dataset = dataset\n",
    "select_columns_in_dataset.params.select_columns = \"{\\\"isFilter\\\":true,\\\"rules\\\":[{\\\"exclude\\\":false,\\\"ruleType\\\":\\\"AllColumns\\\"},\" + \"{\\\"exclude\\\":true,\\\"ruleType\\\":\\\"ColumnNames\\\",\\\"columns\\\":[\\\"normalized-losses\\\"]}]}\""
   ]
  },
  {
   "cell_type": "code",
   "execution_count": 15,
   "metadata": {},
   "outputs": [
    {
     "name": "stdout",
     "output_type": "stream",
     "text": [
      "Input: ['Dataset']\n",
      "Mapping property to field names.\n",
      "self.dataset => self['Dataset']\n",
      "\n",
      "Output: ['Cleaned_dataset', 'Cleaning_transformation']\n",
      "Mapping property to field names.\n",
      "self.cleaned_dataset => self['Cleaned_dataset']\n",
      "self.cleaning_transformation => self['Cleaning_transformation']\n",
      "\n",
      "Parameter: ['Columns to be cleaned', 'Minimum missing value ratio', 'Maximum missing value ratio', 'Cleaning mode', 'Replacement value', 'Generate missing value indicator column', 'Cols with all missing values']\n",
      "Mapping property to field names.\n",
      "self.columns_to_be_cleaned => self['Columns to be cleaned']\n",
      "self.minimum_missing_value_ratio => self['Minimum missing value ratio']\n",
      "self.maximum_missing_value_ratio => self['Maximum missing value ratio']\n",
      "self.cleaning_mode => self['Cleaning mode']\n",
      "self.replacement_value => self['Replacement value']\n",
      "self.generate_missing_value_indicator_column => self['Generate missing value indicator column']\n",
      "self.cols_with_all_missing_values => self['Cols with all missing values']\n",
      "\n"
     ]
    }
   ],
   "source": [
    "clean_missing_data = ModuleStepX.get(ws, name='azureml://Clean Missing Data')\n",
    "clean_missing_data.inputs.dataset = select_columns_in_dataset.outputs.results_dataset\n",
    "clean_missing_data.params.columns_to_be_cleaned =  \"{\\\"isFilter\\\":true,\\\"rules\\\":[{\\\"ruleType\\\":\\\"AllColumns\\\",\\\"exclude\\\":false}]}\"\n",
    "clean_missing_data.params.minimum_missing_value_ratio = 0.0\n",
    "clean_missing_data.params.maximum_missing_value_ratio = 1.0\n",
    "clean_missing_data.params.cleaning_mode = 'Remove entire row'"
   ]
  },
  {
   "cell_type": "code",
   "execution_count": 16,
   "metadata": {},
   "outputs": [
    {
     "name": "stdout",
     "output_type": "stream",
     "text": [
      "Input: ['Dataset']\n",
      "Mapping property to field names.\n",
      "self.dataset => self['Dataset']\n",
      "\n",
      "Output: ['Results_dataset1', 'Results_dataset2']\n",
      "Mapping property to field names.\n",
      "self.results_dataset1 => self['Results_dataset1']\n",
      "self.results_dataset2 => self['Results_dataset2']\n",
      "\n",
      "Parameter: ['Splitting mode', 'Fraction of rows in the first output dataset', 'Randomized split', 'Random seed', 'Stratified split', 'Stratification key column', 'Regular expression', 'Relational expression']\n",
      "Mapping property to field names.\n",
      "self.splitting_mode => self['Splitting mode']\n",
      "self.fraction_of_rows_in_the_first_output_dataset => self['Fraction of rows in the first output dataset']\n",
      "self.randomized_split => self['Randomized split']\n",
      "self.random_seed => self['Random seed']\n",
      "self.stratified_split => self['Stratified split']\n",
      "self.stratification_key_column => self['Stratification key column']\n",
      "self.regular_expression => self['Regular expression']\n",
      "self.relational_expression => self['Relational expression']\n",
      "\n"
     ]
    }
   ],
   "source": [
    "split_data = ModuleStepX.get(ws, name='azureml://Split Data')\n",
    "split_data.inputs.dataset = clean_missing_data.outputs.cleaned_dataset\n",
    "split_data.params.fraction_of_rows_in_the_first_output_dataset = 0.7\n",
    "split_data.params.splitting_mode = 'Split Rows'\n",
    "split_data.params.randomized_split = True\n",
    "split_data.params.stratified_split = False"
   ]
  },
  {
   "cell_type": "code",
   "execution_count": 17,
   "metadata": {},
   "outputs": [
    {
     "name": "stdout",
     "output_type": "stream",
     "text": [
      "Input: []\n",
      "Mapping property to field names.\n",
      "\n",
      "Output: ['Untrained_model']\n",
      "Mapping property to field names.\n",
      "self.untrained_model => self['Untrained_model']\n",
      "\n",
      "Parameter: ['Solution method', 'Create trainer mode', 'Learning rate', 'Number of epochs over which algorithm iterates through examples', 'L2 regularization term weight', 'Range for learning rate', 'Range for number of epochs over which algorithm iterates through examples', 'Range for L2 regularization term weight', 'Should input instances be normalized', 'Decrease learning rate as iterations progress', 'L2 regularization weight', 'Include intercept term', 'Random number seed']\n",
      "Mapping property to field names.\n",
      "self.solution_method => self['Solution method']\n",
      "self.create_trainer_mode => self['Create trainer mode']\n",
      "self.learning_rate => self['Learning rate']\n",
      "self.number_of_epochs_over_which_algorithm_iterates_through_examples => self['Number of epochs over which algorithm iterates through examples']\n",
      "self.l2_regularization_term_weight => self['L2 regularization term weight']\n",
      "self.range_for_learning_rate => self['Range for learning rate']\n",
      "self.range_for_number_of_epochs_over_which_algorithm_iterates_through_examples => self['Range for number of epochs over which algorithm iterates through examples']\n",
      "self.range_for_l2_regularization_term_weight => self['Range for L2 regularization term weight']\n",
      "self.should_input_instances_be_normalized => self['Should input instances be normalized']\n",
      "self.decrease_learning_rate_as_iterations_progress => self['Decrease learning rate as iterations progress']\n",
      "self.l2_regularization_weight => self['L2 regularization weight']\n",
      "self.include_intercept_term => self['Include intercept term']\n",
      "self.random_number_seed => self['Random number seed']\n",
      "\n"
     ]
    }
   ],
   "source": [
    "linear_regression = ModuleStepX.get(ws, name='azureml://Linear Regression')\n",
    "linear_regression.params.solution_method = 'Ordinary Least Squares'\n",
    "linear_regression.params.l2_regularization_term_weight = 0.001\n",
    "linear_regression.params.include_intercept_term = True\n",
    "linear_regression.params.random_number_seed = 0"
   ]
  },
  {
   "cell_type": "code",
   "execution_count": 18,
   "metadata": {},
   "outputs": [
    {
     "name": "stdout",
     "output_type": "stream",
     "text": [
      "Input: ['Untrained_model', 'Dataset']\n",
      "Mapping property to field names.\n",
      "self.untrained_model => self['Untrained_model']\n",
      "self.dataset => self['Dataset']\n",
      "\n",
      "Output: ['Trained_model']\n",
      "Mapping property to field names.\n",
      "self.trained_model => self['Trained_model']\n",
      "\n",
      "Parameter: ['Label column']\n",
      "Mapping property to field names.\n",
      "self.label_column => self['Label column']\n",
      "\n"
     ]
    }
   ],
   "source": [
    "train_model = ModuleStepX.get(ws, name='azureml://Train Model')\n",
    "train_model.inputs.untrained_model = linear_regression.outputs.untrained_model\n",
    "train_model.inputs.dataset = split_data.outputs.results_dataset1\n",
    "train_model.params.label_column = \"{\\\"isFilter\\\":true,\\\"rules\\\":[{\\\"exclude\\\":false,\\\"ruleType\\\":\\\"ColumnNames\\\",\\\"columns\\\":[\\\"price\\\"]}]}\""
   ]
  },
  {
   "cell_type": "code",
   "execution_count": 19,
   "metadata": {},
   "outputs": [
    {
     "name": "stdout",
     "output_type": "stream",
     "text": [
      "Input: ['Trained_model', 'Dataset']\n",
      "Mapping property to field names.\n",
      "self.trained_model => self['Trained_model']\n",
      "self.dataset => self['Dataset']\n",
      "\n",
      "Output: ['Scored_dataset']\n",
      "Mapping property to field names.\n",
      "self.scored_dataset => self['Scored_dataset']\n",
      "\n",
      "Parameter: ['Append score columns to output']\n",
      "Mapping property to field names.\n",
      "self.append_score_columns_to_output => self['Append score columns to output']\n",
      "\n"
     ]
    }
   ],
   "source": [
    "score_model = ModuleStepX.get(ws, name='azureml://Score Model')\n",
    "score_model.inputs.trained_model = train_model.outputs.trained_model\n",
    "score_model.inputs.dataset = split_data.outputs.results_dataset2\n",
    "score_model.params.append_score_columns_to_output = True"
   ]
  },
  {
   "cell_type": "code",
   "execution_count": 20,
   "metadata": {},
   "outputs": [
    {
     "name": "stdout",
     "output_type": "stream",
     "text": [
      "Input: ['Scored_dataset', 'Scored_dataset_to_compare']\n",
      "Mapping property to field names.\n",
      "self.scored_dataset => self['Scored_dataset']\n",
      "self.scored_dataset_to_compare => self['Scored_dataset_to_compare']\n",
      "\n",
      "Output: ['Evaluation_results']\n",
      "Mapping property to field names.\n",
      "self.evaluation_results => self['Evaluation_results']\n",
      "\n",
      "Parameter: []\n",
      "Mapping property to field names.\n",
      "\n"
     ]
    }
   ],
   "source": [
    "evaluate_model = ModuleStepX.get(ws, name='azureml://Evaluate Model')\n",
    "evaluate_model.inputs.scored_dataset = score_model.outputs.scored_dataset"
   ]
  },
  {
   "cell_type": "markdown",
   "metadata": {},
   "source": [
    "### Submit and run experiment"
   ]
  },
  {
   "cell_type": "code",
   "execution_count": 21,
   "metadata": {},
   "outputs": [
    {
     "name": "stdout",
     "output_type": "stream",
     "text": [
      "ModuleStep azureml://Select Columns in Dataset\n",
      "Inputs:  {'Dataset': $AZUREML_DATAREFERENCE_Dataset}\n",
      "Outputs:  {'Results_dataset': $AZUREML_DATAREFERENCE_e0cd2d43c3e74a38992accaba2d19590}\n",
      "Parameters:  {'Select Columns': '{\"isFilter\":true,\"rules\":[{\"exclude\":false,\"ruleType\":\"AllColumns\"},{\"exclude\":true,\"ruleType\":\"ColumnNames\",\"columns\":[\"normalized-losses\"]}]}'}\n",
      "\n",
      "\n",
      "ModuleStep azureml://Clean Missing Data\n",
      "Inputs:  {'Dataset': $AZUREML_DATAREFERENCE_e0cd2d43c3e74a38992accaba2d19590}\n",
      "Outputs:  {'Cleaned_dataset': $AZUREML_DATAREFERENCE_613c48e7908346c0bff33616f9aeaac1, 'Cleaning_transformation': $AZUREML_DATAREFERENCE_fed91244c35043e3b1ac9cf93f9b6fb0}\n",
      "Parameters:  {'Columns to be cleaned': '{\"isFilter\":true,\"rules\":[{\"ruleType\":\"AllColumns\",\"exclude\":false}]}', 'Minimum missing value ratio': 0.0, 'Maximum missing value ratio': 1.0, 'Cleaning mode': 'Remove entire row'}\n",
      "\n",
      "\n",
      "ModuleStep azureml://Split Data\n",
      "Inputs:  {'Dataset': $AZUREML_DATAREFERENCE_613c48e7908346c0bff33616f9aeaac1}\n",
      "Outputs:  {'Results_dataset2': $AZUREML_DATAREFERENCE_da8612ddca8a4f4ebc5884ff7e3a6df5, 'Results_dataset1': $AZUREML_DATAREFERENCE_54eb3467d5364a938e10b0e25db97600}\n",
      "Parameters:  {'Fraction of rows in the first output dataset': 0.7, 'Splitting mode': 'Split Rows', 'Randomized split': True, 'Stratified split': False}\n",
      "\n",
      "\n",
      "ModuleStep azureml://Linear Regression\n",
      "Inputs:  {}\n",
      "Outputs:  {'Untrained_model': $AZUREML_DATAREFERENCE_1f54ae5b77654a2e97aab93874d36518}\n",
      "Parameters:  {'Solution method': 'Ordinary Least Squares', 'L2 regularization term weight': 0.001, 'Include intercept term': True, 'Random number seed': 0}\n",
      "\n",
      "\n",
      "ModuleStep azureml://Train Model\n",
      "Inputs:  {'Untrained_model': $AZUREML_DATAREFERENCE_1f54ae5b77654a2e97aab93874d36518, 'Dataset': $AZUREML_DATAREFERENCE_54eb3467d5364a938e10b0e25db97600}\n",
      "Outputs:  {'Trained_model': $AZUREML_DATAREFERENCE_7864cd7795bf4ec89a86b0ecfabca345}\n",
      "Parameters:  {'Label column': '{\"isFilter\":true,\"rules\":[{\"exclude\":false,\"ruleType\":\"ColumnNames\",\"columns\":[\"price\"]}]}'}\n",
      "\n",
      "\n",
      "ModuleStep azureml://Score Model\n",
      "Inputs:  {'Trained_model': $AZUREML_DATAREFERENCE_7864cd7795bf4ec89a86b0ecfabca345, 'Dataset': $AZUREML_DATAREFERENCE_da8612ddca8a4f4ebc5884ff7e3a6df5}\n",
      "Outputs:  {'Scored_dataset': $AZUREML_DATAREFERENCE_171f6483f8d44d568993ff40ee2493d3}\n",
      "Parameters:  {'Append score columns to output': True}\n",
      "\n",
      "\n",
      "ModuleStep azureml://Evaluate Model\n",
      "Inputs:  {'Scored_dataset': $AZUREML_DATAREFERENCE_171f6483f8d44d568993ff40ee2493d3}\n",
      "Outputs:  {'Evaluation_results': $AZUREML_DATAREFERENCE_f1ab7ccba3d44350af7fd9c504e5ad1c}\n",
      "Parameters:  {}\n",
      "\n",
      "\n",
      "Using data reference Dataset for StepId [d5e1ac7e][7f749c39-5b65-4172-9b09-5ea17886ad1c], (Consumers of this data are eligible to reuse prior runs.)\n",
      "Submitted PipelineRun 37e5d39f-0e58-4ce9-a2e4-30eb4615f6c7\n",
      "Link to Azure Machine Learning studio: https://ml.azure.com/experiments/test_experiment_ex/runs/37e5d39f-0e58-4ce9-a2e4-30eb4615f6c7?wsid=/subscriptions/e9b2ec51-5c94-4fa8-809a-dc1e695e4896/resourcegroups/thy-experiment/workspaces/thyworkspacetest\n"
     ]
    }
   ],
   "source": [
    "steps = [select_columns_in_dataset, clean_missing_data, split_data, linear_regression, train_model, score_model, evaluate_model]\n",
    "ExperimentX.submit(ws, steps, 'test_experiment_ex')"
   ]
  },
  {
   "cell_type": "code",
   "execution_count": null,
   "metadata": {},
   "outputs": [],
   "source": []
  }
 ],
 "metadata": {
  "kernelspec": {
   "display_name": "Python 3",
   "language": "python",
   "name": "python3"
  },
  "language_info": {
   "codemirror_mode": {
    "name": "ipython",
    "version": 3
   },
   "file_extension": ".py",
   "mimetype": "text/x-python",
   "name": "python",
   "nbconvert_exporter": "python",
   "pygments_lexer": "ipython3",
   "version": "3.6.8"
  }
 },
 "nbformat": 4,
 "nbformat_minor": 2
}
