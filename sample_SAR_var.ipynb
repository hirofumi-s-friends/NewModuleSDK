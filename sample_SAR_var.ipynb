{
 "cells": [
  {
   "cell_type": "markdown",
   "metadata": {},
   "source": [
    "### Install azureml-pipeline for pipeline SDK"
   ]
  },
  {
   "cell_type": "code",
   "execution_count": 1,
   "metadata": {},
   "outputs": [
    {
     "name": "stdout",
     "output_type": "stream",
     "text": [
     ]
    }
   ],
   "source": [
    "!python -m pip install azureml-pipeline==1.0.81"
   ]
  },
  {
   "cell_type": "markdown",
   "metadata": {},
   "source": [
    "### Install azureml-designer-tools for register SDK"
   ]
  },
  {
   "cell_type": "code",
   "execution_count": 2,
   "metadata": {},
   "outputs": [
   ],
   "source": [
    "!python -m pip install keyring artifacts-keyring\n",
    "!python -m pip install azureml-designer-tools==0.1.10.post8799295 --extra-index-url=https://msdata.pkgs.visualstudio.com/_packaging/azureml-modules%40Local/pypi/simple/"
   ]
  },
  {
   "cell_type": "code",
   "execution_count": 12,
   "metadata": {},
   "outputs": [],
   "source": [
    "from new_module_sdk import Workspace, DatasetX, ModuleStepX, ExperimentX\n",
    "from azureml.studio.tools.module_repo import ModuleRepo"
   ]
  },
  {
   "cell_type": "markdown",
   "metadata": {},
   "source": [
    "### Get workspace"
   ]
  },
  {
   "cell_type": "code",
   "execution_count": 4,
   "metadata": {},
   "outputs": [],
   "source": [
    "workspace_name = \"\"\n",
    "resource_group_name = \"\"\n",
    "subscription_id = \"\"\n",
    "\n",
    "if workspace_name:\n",
    "    ws = workspace.get(name=workspace_name, resource_group=resource_group_name, subscription_id=subscription_id)\n",
    "else:\n",
    "    ws = Workspace.from_config()"
   ]
  },
  {
   "cell_type": "markdown",
   "metadata": {},
   "source": [
    "### Register module"
   ]
  },
  {
   "cell_type": "code",
   "execution_count": 5,
   "metadata": {},
   "outputs": [
   ],
   "source": [
    "ModuleRepo.register(workspace=ws, module_source=\"https://github.com/hirofumi-s-friends/recommenders/tree/cat_demo\")"
   ]
  },
  {
   "cell_type": "markdown",
   "metadata": {},
   "source": [
    "### Get dataset"
   ]
  },
  {
   "cell_type": "code",
   "execution_count": 6,
   "metadata": {},
   "outputs": [],
   "source": [
    "dataset = DatasetX.get_by_data_reference(ws, \"GenericCSV/Movie_Ratings\")"
   ]
  },
  {
   "cell_type": "markdown",
   "metadata": {},
   "source": [
    "### Get modules"
   ]
  },
  {
   "cell_type": "code",
   "execution_count": 7,
   "metadata": {},
   "outputs": [
    {
     "name": "stdout",
     "output_type": "stream",
     "text": [
      "Initializing module: Stratified Splitter\n",
      "Get inputs\n",
      "inputs.input_path\n",
      "\n",
      "Get outputs\n",
      "outputs.output_train_data\n",
      "outputs.output_test_data\n",
      "\n",
      "Get params\n",
      "params.ratio = None, is_optional=False\n",
      "params.user_column = None, is_optional=False\n",
      "params.item_column = None, is_optional=False\n",
      "params.seed = '42', is_optional=False\n",
      "\n",
      "Initializing module: SAR Train\n",
      "Get inputs\n",
      "inputs.input_path\n",
      "\n",
      "Get outputs\n",
      "outputs.output_model\n",
      "\n",
      "Get params\n",
      "params.user_column = None, is_optional=False\n",
      "params.item_column = None, is_optional=False\n",
      "params.rating_column = None, is_optional=False\n",
      "params.timestamp_column = None, is_optional=False\n",
      "params.normalize = 'False', is_optional=False\n",
      "params.time_decay = 'False', is_optional=False\n",
      "\n",
      "Initializing module: SAR Score\n",
      "Get inputs\n",
      "inputs.trained_model\n",
      "inputs.dataset_to_score\n",
      "\n",
      "Get outputs\n",
      "outputs.score_result\n",
      "\n",
      "Get params\n",
      "params.score_type = 'Item recommendation', is_optional=False\n",
      "params.items_to_predict = None, is_optional=True\n",
      "params.ranking_metric = None, is_optional=True\n",
      "params.remove_seen_items = None, is_optional=True\n",
      "params.top_k = None, is_optional=True\n",
      "params.sort_top_k = None, is_optional=True\n",
      "params.normalize = 'False', is_optional=False\n",
      "\n"
     ]
    }
   ],
   "source": [
    "stratified_splitter = ModuleStepX.get(ws, name='Stratified Splitter')\n",
    "sar_train = ModuleStepX.get(ws, name='SAR Train')\n",
    "sar_score = ModuleStepX.get(ws, name='SAR Score')"
   ]
  },
  {
   "cell_type": "markdown",
   "metadata": {},
   "source": [
    "### Set inputs, outputs and parameters"
   ]
  },
  {
   "cell_type": "code",
   "execution_count": 8,
   "metadata": {},
   "outputs": [],
   "source": [
    "stratified_splitter.inputs.input_path = dataset\n",
    "stratified_splitter.params.user_column = 'UserId'\n",
    "stratified_splitter.params.item_column = 'MovieId'\n",
    "stratified_splitter.params.seed = 42\n",
    "stratified_splitter.params.ratio = 0.8"
   ]
  },
  {
   "cell_type": "code",
   "execution_count": 9,
   "metadata": {},
   "outputs": [],
   "source": [
    "sar_train.inputs.input_path = stratified_splitter.outputs.output_train_data\n",
    "sar_train.params.user_column = 'UserId'\n",
    "sar_train.params.item_column = 'MovieId'\n",
    "sar_train.params.rating_column = 'Rating'\n",
    "sar_train.params.timestamp_column = 'Timestamp'"
   ]
  },
  {
   "cell_type": "code",
   "execution_count": 10,
   "metadata": {},
   "outputs": [],
   "source": [
    "sar_score.inputs.trained_model = sar_train.outputs.output_model\n",
    "sar_score.inputs.dataset_to_score = stratified_splitter.outputs.output_test_data\n",
    "sar_score.params.score_type = 'Rating prediction'\n",
    "sar_score.params.items_to_predict = 'Items in score set'"
   ]
  },
  {
   "cell_type": "markdown",
   "metadata": {},
   "source": [
    "### Submit pipeline"
   ]
  },
  {
   "cell_type": "code",
   "execution_count": 11,
   "metadata": {},
   "outputs": [
    {
     "name": "stdout",
     "output_type": "stream",
     "text": [
      "ModuleStep Stratified Splitter\n",
      "Inputs:  {'Input_path': $AZUREML_DATAREFERENCE_Dataset}\n",
      "Outputs:  {'Output_train_data': $AZUREML_DATAREFERENCE_9f62106350254b70ad1cf604c0a72a93, 'Output_test_data': $AZUREML_DATAREFERENCE_6d40d86f0c1c4b609529a13c040be407}\n",
      "Parameters:  {'Ratio': 0.8, 'User column': 'UserId', 'Item column': 'MovieId', 'Seed': 42}\n",
      "\n",
      "\n",
      "ModuleStep SAR Train\n",
      "Inputs:  {'Input_path': $AZUREML_DATAREFERENCE_9f62106350254b70ad1cf604c0a72a93}\n",
      "Outputs:  {'Output_model': $AZUREML_DATAREFERENCE_f650fbf266d84f85ba572c9860015099}\n",
      "Parameters:  {'User column': 'UserId', 'Item column': 'MovieId', 'Rating column': 'Rating', 'Timestamp column': 'Timestamp', 'Normalize': \"'False'\", 'Time decay': \"'False'\"}\n",
      "\n",
      "\n",
      "ModuleStep SAR Score\n",
      "Inputs:  {'Trained_model': $AZUREML_DATAREFERENCE_f650fbf266d84f85ba572c9860015099, 'Dataset_to_score': $AZUREML_DATAREFERENCE_6d40d86f0c1c4b609529a13c040be407}\n",
      "Outputs:  {'Score_result': $AZUREML_DATAREFERENCE_7191b6f714664e9bbd6c50501561b5b7}\n",
      "Parameters:  {'Score type': 'Rating prediction', 'Items to predict': 'Items in score set', 'Ranking metric': None, 'Remove seen items': None, 'Top k': None, 'Sort top k': None, 'Normalize': \"'False'\"}\n",
      "\n",
      "\n",
      "Using data reference Dataset for StepId [332c7bcd][8c2e5e61-ec05-49ac-8dbd-df6827aade88], (Consumers of this data are eligible to reuse prior runs.)\n",
      "Submitted PipelineRun b25b1f68-1034-48a4-ac3d-d39b8a63b0b7\n",
      "Link to Azure Machine Learning studio: https://ml.azure.com/experiments/test_experiment_sar/runs/b25b1f68-1034-48a4-ac3d-d39b8a63b0b7?wsid=/subscriptions/e9b2ec51-5c94-4fa8-809a-dc1e695e4896/resourcegroups/thy-experiment/workspaces/thyworkspacetest\n"
     ]
    }
   ],
   "source": [
    "steps = [stratified_splitter, sar_train, sar_score]\n",
    "ExperimentX.submit(ws, steps, 'test_experiment_sar')"
   ]
  }
 ],
 "metadata": {
  "kernelspec": {
   "display_name": "Python 3",
   "language": "python",
   "name": "python3"
  },
  "language_info": {
   "codemirror_mode": {
    "name": "ipython",
    "version": 3
   },
   "file_extension": ".py",
   "mimetype": "text/x-python",
   "name": "python",
   "nbconvert_exporter": "python",
   "pygments_lexer": "ipython3",
   "version": "3.6.8"
  }
 },
 "nbformat": 4,
 "nbformat_minor": 2
}
