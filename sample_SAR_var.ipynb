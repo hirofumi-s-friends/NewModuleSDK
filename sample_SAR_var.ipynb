{
 "cells": [
  {
   "cell_type": "code",
   "execution_count": 1,
   "metadata": {},
   "outputs": [],
   "source": [
    "from new_module_sdk import Workspace, DatasetX, ModuleStepX, ExperimentX\n",
    "from azureml.studio.tools.module_repo import ModuleRepo"
   ]
  },
  {
   "cell_type": "markdown",
   "metadata": {},
   "source": [
    "### Get workspace"
   ]
  },
  {
   "cell_type": "code",
   "execution_count": 2,
   "metadata": {},
   "outputs": [],
   "source": [
    "ws = Workspace.from_config()"
   ]
  },
  {
   "cell_type": "markdown",
   "metadata": {},
   "source": [
    "### Register module"
   ]
  },
  {
   "cell_type": "code",
   "execution_count": 3,
   "metadata": {},
   "outputs": [],
   "source": [
    "ModuleRepo.register(workspace=ws, module_source=\"https://github.com/hirofumi-s-friends/recommenders/tree/cat_demo\")"
   ]
  },
  {
   "cell_type": "markdown",
   "metadata": {},
   "source": [
    "### Get dataset"
   ]
  },
  {
   "cell_type": "code",
   "execution_count": 3,
   "metadata": {},
   "outputs": [],
   "source": [
    "dataset = DatasetX.get_by_data_reference(ws, \"GenericCSV/Movie_Ratings\")"
   ]
  },
  {
   "cell_type": "markdown",
   "metadata": {},
   "source": [
    "### Get and define modules"
   ]
  },
  {
   "cell_type": "code",
   "execution_count": 5,
   "metadata": {},
   "outputs": [
    {
     "name": "stdout",
     "output_type": "stream",
     "text": [
      "Input: ['Input_path']\n",
      "Mapping property to field names.\n",
      "self.input_path => self['Input_path']\n",
      "\n",
      "Output: ['Output_train_data', 'Output_test_data']\n",
      "Mapping property to field names.\n",
      "self.output_train_data => self['Output_train_data']\n",
      "self.output_test_data => self['Output_test_data']\n",
      "\n",
      "Parameter: ['Ratio', 'User column', 'Item column', 'Seed']\n",
      "Mapping property to field names.\n",
      "self.ratio => self['Ratio']\n",
      "self.user_column => self['User column']\n",
      "self.item_column => self['Item column']\n",
      "self.seed => self['Seed']\n",
      "\n"
     ]
    }
   ],
   "source": [
    "stratified_splitter = ModuleStepX.get(ws, name='Stratified Splitter')\n",
    "stratified_splitter.inputs.input_path = dataset\n",
    "stratified_splitter.params.user_column = 'UserId'\n",
    "stratified_splitter.params.item_column = 'MovieId'\n",
    "stratified_splitter.params.seed = 42\n",
    "stratified_splitter.params.ratio = 0.8"
   ]
  },
  {
   "cell_type": "code",
   "execution_count": 7,
   "metadata": {},
   "outputs": [
    {
     "name": "stdout",
     "output_type": "stream",
     "text": [
      "Input: ['Input_path']\n",
      "Mapping property to field names.\n",
      "self.input_path => self['Input_path']\n",
      "\n",
      "Output: ['Output_model']\n",
      "Mapping property to field names.\n",
      "self.output_model => self['Output_model']\n",
      "\n",
      "Parameter: ['User column', 'Item column', 'Rating column', 'Timestamp column', 'Normalize', 'Time decay']\n",
      "Mapping property to field names.\n",
      "self.user_column => self['User column']\n",
      "self.item_column => self['Item column']\n",
      "self.rating_column => self['Rating column']\n",
      "self.timestamp_column => self['Timestamp column']\n",
      "self.normalize => self['Normalize']\n",
      "self.time_decay => self['Time decay']\n",
      "\n"
     ]
    }
   ],
   "source": [
    "sar_train = ModuleStepX.get(ws, name='SAR Train')\n",
    "sar_train.inputs.input_path = stratified_splitter.outputs.output_train_data\n",
    "sar_train.params.user_column = 'UserId'\n",
    "sar_train.params.item_column = 'MovieId'\n",
    "sar_train.params.rating_column = 'Rating'\n",
    "sar_train.params.timestamp_column = 'Timestamp'"
   ]
  },
  {
   "cell_type": "code",
   "execution_count": 8,
   "metadata": {},
   "outputs": [
    {
     "name": "stdout",
     "output_type": "stream",
     "text": [
      "Input: ['Trained_model', 'Dataset_to_score']\n",
      "Mapping property to field names.\n",
      "self.trained_model => self['Trained_model']\n",
      "self.dataset_to_score => self['Dataset_to_score']\n",
      "\n",
      "Output: ['Score_result']\n",
      "Mapping property to field names.\n",
      "self.score_result => self['Score_result']\n",
      "\n",
      "Parameter: ['Score type', 'Items to predict', 'Ranking metric', 'Remove seen items', 'Top k', 'Sort top k', 'Normalize']\n",
      "Mapping property to field names.\n",
      "self.score_type => self['Score type']\n",
      "self.items_to_predict => self['Items to predict']\n",
      "self.ranking_metric => self['Ranking metric']\n",
      "self.remove_seen_items => self['Remove seen items']\n",
      "self.top_k => self['Top k']\n",
      "self.sort_top_k => self['Sort top k']\n",
      "self.normalize => self['Normalize']\n",
      "\n"
     ]
    }
   ],
   "source": [
    "sar_score = ModuleStepX.get(ws, name='SAR Score')\n",
    "sar_score.inputs.trained_model = sar_train.outputs.output_model\n",
    "sar_score.inputs.dataset_to_score = stratified_splitter.outputs.output_test_data\n",
    "sar_score.params.score_type = 'Rating prediction'\n",
    "sar_score.params.items_to_predict = 'Items in score set'"
   ]
  },
  {
   "cell_type": "markdown",
   "metadata": {},
   "source": [
    "### Submit pipeline"
   ]
  },
  {
   "cell_type": "code",
   "execution_count": 9,
   "metadata": {},
   "outputs": [
    {
     "name": "stdout",
     "output_type": "stream",
     "text": [
      "ModuleStep Stratified Splitter\n",
      "Inputs:  {'Input_path': $AZUREML_DATAREFERENCE_Dataset}\n",
      "Outputs:  {'Output_test_data': $AZUREML_DATAREFERENCE_0bfc061d372a4078b2cb1154b4013c66, 'Output_train_data': $AZUREML_DATAREFERENCE_f41dcb7d3e1f4c85b311e348979d300d}\n",
      "Parameters:  {'User column': 'UserId', 'Item column': 'MovieId', 'Seed': 42, 'Ratio': 0.8}\n",
      "\n",
      "\n",
      "ModuleStep SAR Train\n",
      "Inputs:  {'Input_path': $AZUREML_DATAREFERENCE_f41dcb7d3e1f4c85b311e348979d300d}\n",
      "Outputs:  {'Output_model': $AZUREML_DATAREFERENCE_870be0b2bb5b446eb7cfc57dd2b7e659}\n",
      "Parameters:  {'User column': 'UserId', 'Item column': 'MovieId', 'Rating column': 'Rating', 'Timestamp column': 'Timestamp'}\n",
      "\n",
      "\n",
      "ModuleStep SAR Score\n",
      "Inputs:  {'Trained_model': $AZUREML_DATAREFERENCE_870be0b2bb5b446eb7cfc57dd2b7e659, 'Dataset_to_score': $AZUREML_DATAREFERENCE_0bfc061d372a4078b2cb1154b4013c66}\n",
      "Outputs:  {'Score_result': $AZUREML_DATAREFERENCE_ea2a060b4a8d4c278f7bd0b498fb3537}\n",
      "Parameters:  {'Score type': 'Rating prediction', 'Items to predict': 'Items in score set'}\n",
      "\n",
      "\n",
      "Using data reference Dataset for StepId [20e178fa][8c2e5e61-ec05-49ac-8dbd-df6827aade88], (Consumers of this data are eligible to reuse prior runs.)\n",
      "Submitted PipelineRun 35b401ce-1441-400b-a824-42193c583793\n",
      "Link to Azure Machine Learning studio: https://ml.azure.com/experiments/test_experiment_sar/runs/35b401ce-1441-400b-a824-42193c583793?wsid=/subscriptions/e9b2ec51-5c94-4fa8-809a-dc1e695e4896/resourcegroups/thy-experiment/workspaces/thyworkspacetest\n"
     ]
    }
   ],
   "source": [
    "steps = [stratified_splitter, sar_train, sar_score]\n",
    "ExperimentX.submit(ws, steps, 'test_experiment_sar')"
   ]
  },
  {
   "cell_type": "code",
   "execution_count": null,
   "metadata": {},
   "outputs": [],
   "source": []
  }
 ],
 "metadata": {
  "kernelspec": {
   "display_name": "Python 3",
   "language": "python",
   "name": "python3"
  },
  "language_info": {
   "codemirror_mode": {
    "name": "ipython",
    "version": 3
   },
   "file_extension": ".py",
   "mimetype": "text/x-python",
   "name": "python",
   "nbconvert_exporter": "python",
   "pygments_lexer": "ipython3",
   "version": "3.6.8"
  }
 },
 "nbformat": 4,
 "nbformat_minor": 2
}
